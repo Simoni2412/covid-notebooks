{
  "nbformat": 4,
  "nbformat_minor": 0,
  "metadata": {
    "colab": {
      "name": "World_timeseries.ipynb",
      "provenance": [],
      "collapsed_sections": [],
      "authorship_tag": "ABX9TyMSGqxTPJu6+AGzw6CH1Vtc",
      "include_colab_link": true
    },
    "kernelspec": {
      "name": "python3",
      "display_name": "Python 3"
    }
  },
  "cells": [
    {
      "cell_type": "markdown",
      "metadata": {
        "id": "view-in-github",
        "colab_type": "text"
      },
      "source": [
        "<a href=\"https://colab.research.google.com/github/Simoni2412/covid-notebooks/blob/master/World_timeseries.ipynb\" target=\"_parent\"><img src=\"https://colab.research.google.com/assets/colab-badge.svg\" alt=\"Open In Colab\"/></a>"
      ]
    },
    {
      "cell_type": "code",
      "metadata": {
        "id": "j6Ikc4dnakrZ",
        "colab_type": "code",
        "colab": {}
      },
      "source": [
        "import pandas as pd\n",
        "import plotly.graph_objects as go\n",
        "import plotly.express as px\n",
        "import json\n",
        "\n",
        "world_url = 'https://disease.sh/v3/covid-19/historical/all?lastdays=30'\n",
        "static_url = 'https://disease.sh/v3/covid-19/all?yesterday=true'\n",
        "df = pd.read_json(world_url)\n",
        "print (df.head())\n",
        "print(type(df))"
      ],
      "execution_count": null,
      "outputs": []
    },
    {
      "cell_type": "code",
      "metadata": {
        "id": "It_TgJsBenYP",
        "colab_type": "code",
        "colab": {}
      },
      "source": [
        "x = df.index.values\n",
        "#world_col = df.columns\n",
        "#world_col_final = ['date','cases', 'deaths', 'recovered', 'active']\n",
        "new = df.reindex(columns = world_col_final)\n",
        "print(x)"
      ],
      "execution_count": null,
      "outputs": []
    },
    {
      "cell_type": "code",
      "metadata": {
        "id": "WXWgE6cAoTdg",
        "colab_type": "code",
        "colab": {}
      },
      "source": [
        ""
      ],
      "execution_count": null,
      "outputs": []
    },
    {
      "cell_type": "code",
      "metadata": {
        "id": "24gFUCb-e9IR",
        "colab_type": "code",
        "colab": {}
      },
      "source": [
        "print(new)"
      ],
      "execution_count": null,
      "outputs": []
    },
    {
      "cell_type": "code",
      "metadata": {
        "id": "urmm8I2cjiBJ",
        "colab_type": "code",
        "colab": {}
      },
      "source": [
        ""
      ],
      "execution_count": null,
      "outputs": []
    }
  ]
}